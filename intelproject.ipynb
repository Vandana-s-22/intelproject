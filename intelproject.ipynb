{
  "cells": [
    {
      "cell_type": "markdown",
      "metadata": {
        "id": "view-in-github",
        "colab_type": "text"
      },
      "source": [
        "<a href=\"https://colab.research.google.com/github/Vandana-s-22/intelproject/blob/main/intelproject.ipynb\" target=\"_parent\"><img src=\"https://colab.research.google.com/assets/colab-badge.svg\" alt=\"Open In Colab\"/></a>"
      ]
    },
    {
      "cell_type": "code",
      "execution_count": null,
      "metadata": {
        "colab": {
          "base_uri": "https://localhost:8080/"
        },
        "id": "c-4vQSUwndSW",
        "outputId": "f36d9726-c9d0-4d58-c91e-20bc84edaf68"
      },
      "outputs": [
        {
          "output_type": "stream",
          "name": "stdout",
          "text": [
            "Requirement already satisfied: faker in /usr/local/lib/python3.10/dist-packages (26.0.0)\n",
            "Requirement already satisfied: python-dateutil>=2.4 in /usr/local/lib/python3.10/dist-packages (from faker) (2.8.2)\n",
            "Requirement already satisfied: six>=1.5 in /usr/local/lib/python3.10/dist-packages (from python-dateutil>=2.4->faker) (1.16.0)\n"
          ]
        }
      ],
      "source": [
        "pip install faker"
      ]
    },
    {
      "cell_type": "code",
      "source": [
        "pip install streamlit"
      ],
      "metadata": {
        "colab": {
          "base_uri": "https://localhost:8080/"
        },
        "id": "aBFTbIp5nc_8",
        "outputId": "8dc3ce9e-9ada-4a2b-8e63-6470571c6390"
      },
      "execution_count": 1,
      "outputs": [
        {
          "output_type": "stream",
          "name": "stdout",
          "text": [
            "Collecting streamlit\n",
            "  Downloading streamlit-1.36.0-py2.py3-none-any.whl (8.6 MB)\n",
            "\u001b[2K     \u001b[90m━━━━━━━━━━━━━━━━━━━━━━━━━━━━━━━━━━━━━━━━\u001b[0m \u001b[32m8.6/8.6 MB\u001b[0m \u001b[31m18.4 MB/s\u001b[0m eta \u001b[36m0:00:00\u001b[0m\n",
            "\u001b[?25hRequirement already satisfied: altair<6,>=4.0 in /usr/local/lib/python3.10/dist-packages (from streamlit) (4.2.2)\n",
            "Requirement already satisfied: blinker<2,>=1.0.0 in /usr/lib/python3/dist-packages (from streamlit) (1.4)\n",
            "Requirement already satisfied: cachetools<6,>=4.0 in /usr/local/lib/python3.10/dist-packages (from streamlit) (5.3.3)\n",
            "Requirement already satisfied: click<9,>=7.0 in /usr/local/lib/python3.10/dist-packages (from streamlit) (8.1.7)\n",
            "Requirement already satisfied: numpy<3,>=1.20 in /usr/local/lib/python3.10/dist-packages (from streamlit) (1.25.2)\n",
            "Requirement already satisfied: packaging<25,>=20 in /usr/local/lib/python3.10/dist-packages (from streamlit) (24.1)\n",
            "Requirement already satisfied: pandas<3,>=1.3.0 in /usr/local/lib/python3.10/dist-packages (from streamlit) (2.0.3)\n",
            "Requirement already satisfied: pillow<11,>=7.1.0 in /usr/local/lib/python3.10/dist-packages (from streamlit) (9.4.0)\n",
            "Requirement already satisfied: protobuf<6,>=3.20 in /usr/local/lib/python3.10/dist-packages (from streamlit) (3.20.3)\n",
            "Requirement already satisfied: pyarrow>=7.0 in /usr/local/lib/python3.10/dist-packages (from streamlit) (14.0.2)\n",
            "Requirement already satisfied: requests<3,>=2.27 in /usr/local/lib/python3.10/dist-packages (from streamlit) (2.31.0)\n",
            "Requirement already satisfied: rich<14,>=10.14.0 in /usr/local/lib/python3.10/dist-packages (from streamlit) (13.7.1)\n",
            "Requirement already satisfied: tenacity<9,>=8.1.0 in /usr/local/lib/python3.10/dist-packages (from streamlit) (8.4.2)\n",
            "Requirement already satisfied: toml<2,>=0.10.1 in /usr/local/lib/python3.10/dist-packages (from streamlit) (0.10.2)\n",
            "Requirement already satisfied: typing-extensions<5,>=4.3.0 in /usr/local/lib/python3.10/dist-packages (from streamlit) (4.12.2)\n",
            "Collecting gitpython!=3.1.19,<4,>=3.0.7 (from streamlit)\n",
            "  Downloading GitPython-3.1.43-py3-none-any.whl (207 kB)\n",
            "\u001b[2K     \u001b[90m━━━━━━━━━━━━━━━━━━━━━━━━━━━━━━━━━━━━━━━━\u001b[0m \u001b[32m207.3/207.3 kB\u001b[0m \u001b[31m12.5 MB/s\u001b[0m eta \u001b[36m0:00:00\u001b[0m\n",
            "\u001b[?25hCollecting pydeck<1,>=0.8.0b4 (from streamlit)\n",
            "  Downloading pydeck-0.9.1-py2.py3-none-any.whl (6.9 MB)\n",
            "\u001b[2K     \u001b[90m━━━━━━━━━━━━━━━━━━━━━━━━━━━━━━━━━━━━━━━━\u001b[0m \u001b[32m6.9/6.9 MB\u001b[0m \u001b[31m51.1 MB/s\u001b[0m eta \u001b[36m0:00:00\u001b[0m\n",
            "\u001b[?25hRequirement already satisfied: tornado<7,>=6.0.3 in /usr/local/lib/python3.10/dist-packages (from streamlit) (6.3.3)\n",
            "Collecting watchdog<5,>=2.1.5 (from streamlit)\n",
            "  Downloading watchdog-4.0.1-py3-none-manylinux2014_x86_64.whl (83 kB)\n",
            "\u001b[2K     \u001b[90m━━━━━━━━━━━━━━━━━━━━━━━━━━━━━━━━━━━━━━━━\u001b[0m \u001b[32m83.0/83.0 kB\u001b[0m \u001b[31m912.6 kB/s\u001b[0m eta \u001b[36m0:00:00\u001b[0m\n",
            "\u001b[?25hRequirement already satisfied: entrypoints in /usr/local/lib/python3.10/dist-packages (from altair<6,>=4.0->streamlit) (0.4)\n",
            "Requirement already satisfied: jinja2 in /usr/local/lib/python3.10/dist-packages (from altair<6,>=4.0->streamlit) (3.1.4)\n",
            "Requirement already satisfied: jsonschema>=3.0 in /usr/local/lib/python3.10/dist-packages (from altair<6,>=4.0->streamlit) (4.19.2)\n",
            "Requirement already satisfied: toolz in /usr/local/lib/python3.10/dist-packages (from altair<6,>=4.0->streamlit) (0.12.1)\n",
            "Collecting gitdb<5,>=4.0.1 (from gitpython!=3.1.19,<4,>=3.0.7->streamlit)\n",
            "  Downloading gitdb-4.0.11-py3-none-any.whl (62 kB)\n",
            "\u001b[2K     \u001b[90m━━━━━━━━━━━━━━━━━━━━━━━━━━━━━━━━━━━━━━━━\u001b[0m \u001b[32m62.7/62.7 kB\u001b[0m \u001b[31m4.9 MB/s\u001b[0m eta \u001b[36m0:00:00\u001b[0m\n",
            "\u001b[?25hRequirement already satisfied: python-dateutil>=2.8.2 in /usr/local/lib/python3.10/dist-packages (from pandas<3,>=1.3.0->streamlit) (2.8.2)\n",
            "Requirement already satisfied: pytz>=2020.1 in /usr/local/lib/python3.10/dist-packages (from pandas<3,>=1.3.0->streamlit) (2023.4)\n",
            "Requirement already satisfied: tzdata>=2022.1 in /usr/local/lib/python3.10/dist-packages (from pandas<3,>=1.3.0->streamlit) (2024.1)\n",
            "Requirement already satisfied: charset-normalizer<4,>=2 in /usr/local/lib/python3.10/dist-packages (from requests<3,>=2.27->streamlit) (3.3.2)\n",
            "Requirement already satisfied: idna<4,>=2.5 in /usr/local/lib/python3.10/dist-packages (from requests<3,>=2.27->streamlit) (3.7)\n",
            "Requirement already satisfied: urllib3<3,>=1.21.1 in /usr/local/lib/python3.10/dist-packages (from requests<3,>=2.27->streamlit) (2.0.7)\n",
            "Requirement already satisfied: certifi>=2017.4.17 in /usr/local/lib/python3.10/dist-packages (from requests<3,>=2.27->streamlit) (2024.6.2)\n",
            "Requirement already satisfied: markdown-it-py>=2.2.0 in /usr/local/lib/python3.10/dist-packages (from rich<14,>=10.14.0->streamlit) (3.0.0)\n",
            "Requirement already satisfied: pygments<3.0.0,>=2.13.0 in /usr/local/lib/python3.10/dist-packages (from rich<14,>=10.14.0->streamlit) (2.16.1)\n",
            "Collecting smmap<6,>=3.0.1 (from gitdb<5,>=4.0.1->gitpython!=3.1.19,<4,>=3.0.7->streamlit)\n",
            "  Downloading smmap-5.0.1-py3-none-any.whl (24 kB)\n",
            "Requirement already satisfied: MarkupSafe>=2.0 in /usr/local/lib/python3.10/dist-packages (from jinja2->altair<6,>=4.0->streamlit) (2.1.5)\n",
            "Requirement already satisfied: attrs>=22.2.0 in /usr/local/lib/python3.10/dist-packages (from jsonschema>=3.0->altair<6,>=4.0->streamlit) (23.2.0)\n",
            "Requirement already satisfied: jsonschema-specifications>=2023.03.6 in /usr/local/lib/python3.10/dist-packages (from jsonschema>=3.0->altair<6,>=4.0->streamlit) (2023.12.1)\n",
            "Requirement already satisfied: referencing>=0.28.4 in /usr/local/lib/python3.10/dist-packages (from jsonschema>=3.0->altair<6,>=4.0->streamlit) (0.35.1)\n",
            "Requirement already satisfied: rpds-py>=0.7.1 in /usr/local/lib/python3.10/dist-packages (from jsonschema>=3.0->altair<6,>=4.0->streamlit) (0.18.1)\n",
            "Requirement already satisfied: mdurl~=0.1 in /usr/local/lib/python3.10/dist-packages (from markdown-it-py>=2.2.0->rich<14,>=10.14.0->streamlit) (0.1.2)\n",
            "Requirement already satisfied: six>=1.5 in /usr/local/lib/python3.10/dist-packages (from python-dateutil>=2.8.2->pandas<3,>=1.3.0->streamlit) (1.16.0)\n",
            "Installing collected packages: watchdog, smmap, pydeck, gitdb, gitpython, streamlit\n",
            "Successfully installed gitdb-4.0.11 gitpython-3.1.43 pydeck-0.9.1 smmap-5.0.1 streamlit-1.36.0 watchdog-4.0.1\n"
          ]
        }
      ]
    },
    {
      "cell_type": "code",
      "source": [
        "pip install PyMuPDF"
      ],
      "metadata": {
        "colab": {
          "base_uri": "https://localhost:8080/"
        },
        "id": "bMcdht_CV1p-",
        "outputId": "3ca4058d-247e-4fcd-fea9-199627c89f66"
      },
      "execution_count": 2,
      "outputs": [
        {
          "output_type": "stream",
          "name": "stdout",
          "text": [
            "Collecting PyMuPDF\n",
            "  Downloading PyMuPDF-1.24.7-cp310-none-manylinux2014_x86_64.whl (3.5 MB)\n",
            "\u001b[2K     \u001b[90m━━━━━━━━━━━━━━━━━━━━━━━━━━━━━━━━━━━━━━━━\u001b[0m \u001b[32m3.5/3.5 MB\u001b[0m \u001b[31m10.5 MB/s\u001b[0m eta \u001b[36m0:00:00\u001b[0m\n",
            "\u001b[?25hCollecting PyMuPDFb==1.24.6 (from PyMuPDF)\n",
            "  Downloading PyMuPDFb-1.24.6-py3-none-manylinux2014_x86_64.manylinux_2_17_x86_64.whl (15.7 MB)\n",
            "\u001b[2K     \u001b[90m━━━━━━━━━━━━━━━━━━━━━━━━━━━━━━━━━━━━━━━━\u001b[0m \u001b[32m15.7/15.7 MB\u001b[0m \u001b[31m19.7 MB/s\u001b[0m eta \u001b[36m0:00:00\u001b[0m\n",
            "\u001b[?25hInstalling collected packages: PyMuPDFb, PyMuPDF\n",
            "Successfully installed PyMuPDF-1.24.7 PyMuPDFb-1.24.6\n"
          ]
        }
      ]
    },
    {
      "cell_type": "code",
      "source": [
        "pip install fpdf"
      ],
      "metadata": {
        "colab": {
          "base_uri": "https://localhost:8080/"
        },
        "id": "BtM8T4PYV4jg",
        "outputId": "f45f2cd3-2790-4cda-d9a8-1f89f67d0dc0"
      },
      "execution_count": 3,
      "outputs": [
        {
          "output_type": "stream",
          "name": "stdout",
          "text": [
            "Collecting fpdf\n",
            "  Downloading fpdf-1.7.2.tar.gz (39 kB)\n",
            "  Preparing metadata (setup.py) ... \u001b[?25l\u001b[?25hdone\n",
            "Building wheels for collected packages: fpdf\n",
            "  Building wheel for fpdf (setup.py) ... \u001b[?25l\u001b[?25hdone\n",
            "  Created wheel for fpdf: filename=fpdf-1.7.2-py2.py3-none-any.whl size=40702 sha256=514dabed14f379ebbf93bb8dc580733d4fb33283964ddc436e0fc3f012448522\n",
            "  Stored in directory: /root/.cache/pip/wheels/f9/95/ba/f418094659025eb9611f17cbcaf2334236bf39a0c3453ea455\n",
            "Successfully built fpdf\n",
            "Installing collected packages: fpdf\n",
            "Successfully installed fpdf-1.7.2\n"
          ]
        }
      ]
    },
    {
      "cell_type": "code",
      "source": [
        "%%writefile businesscontract.py\n",
        "import streamlit as st\n",
        "import fitz  # PyMuPDF\n",
        "from fpdf import FPDF\n",
        "import re\n",
        "from faker import Faker\n",
        "import random\n",
        "import tempfile\n",
        "from difflib import SequenceMatcher\n",
        "\n",
        "# Initialize Faker\n",
        "fake = Faker()\n",
        "\n",
        "# Template for comparison\n",
        "template_contract = f\"\"\"\n",
        "BUSINESS CONTRACT\n",
        "\n",
        "PARTIES INVOLVED:\n",
        "  This contract is between {{company_a}} (hereinafter referred to as 'Party A') and {{company_b}} (hereinafter referred to as 'Party B').\n",
        "\n",
        "CONTRACT DURATION:\n",
        "  This contract shall commence on {{start_date}} and shall continue until {{end_date}} unless terminated earlier in accordance with the terms herein.\n",
        "\n",
        "PAYMENT TERMS:\n",
        "  Payment Terms.1: {{sentence}}\n",
        "  Payment Terms.2: {{sentence}}\n",
        "  Payment Terms.3: {{sentence}}\n",
        "\n",
        "CONFIDENTIALITY:\n",
        "  Confidentiality.1: {{sentence}}\n",
        "  Confidentiality.2: {{sentence}}\n",
        "  Confidentiality.3: {{sentence}}\n",
        "\n",
        "TERMINATION:\n",
        "  Termination.1: {{sentence}}\n",
        "  Termination.2: {{sentence}}\n",
        "  Termination.3: {{sentence}}\n",
        "\n",
        "LIABILITY:\n",
        "  Liability.1: {{sentence}}\n",
        "  Liability.2: {{sentence}}\n",
        "  Liability.3: {{sentence}}\n",
        "\n",
        "DISPUTE RESOLUTION:\n",
        "  Dispute Resolution.1: {{sentence}}\n",
        "  Dispute Resolution.2: {{sentence}}\n",
        "  Dispute Resolution.3: {{sentence}}\n",
        "\n",
        "MISCELLANEOUS:\n",
        "  Miscellaneous.1: {{sentence}}\n",
        "  Miscellaneous.2: {{sentence}}\n",
        "  Miscellaneous.3: {{sentence}}\n",
        "\n",
        "SIGNATURES:\n",
        "  Party A Representative: {{name}}\n",
        "  Party B Representative: {{name}}\n",
        "\n",
        "Date: {{date}}\n",
        "\"\"\"\n",
        "\n",
        "# Generate random contract text for template\n",
        "def generate_template_contract():\n",
        "    return template_contract.format(\n",
        "        company_a=fake.company(),\n",
        "        company_b=fake.company(),\n",
        "        start_date=fake.date_this_year(),\n",
        "        end_date=fake.date_this_decade(),\n",
        "        sentence=fake.sentence(),\n",
        "        name=fake.name(),\n",
        "        date=fake.date_this_year()\n",
        "    )\n",
        "\n",
        "# Function to save contract as PDF with style\n",
        "def save_contract_as_pdf(contract_text, file_name):\n",
        "    class PDF(FPDF):\n",
        "        def header(self):\n",
        "            self.set_font('Arial', 'B', 12)\n",
        "            self.cell(0, 10, 'Business Contract', 0, 1, 'C')\n",
        "\n",
        "        def chapter_title(self, title):\n",
        "            self.set_font('Arial', 'B', 12)\n",
        "            self.set_fill_color(200, 220, 255)\n",
        "            self.cell(0, 10, title, 0, 1, 'L', 1)\n",
        "            self.ln(4)\n",
        "\n",
        "        def chapter_body(self, body):\n",
        "            self.set_font('Arial', '', 12)\n",
        "            self.multi_cell(0, 10, body)\n",
        "            self.ln()\n",
        "\n",
        "        def add_contract(self, contract_text):\n",
        "            for line in contract_text.split('\\n'):\n",
        "                if line.strip() == '':\n",
        "                    continue\n",
        "                if line.isupper():\n",
        "                    self.chapter_title(line)\n",
        "                else:\n",
        "                    self.chapter_body(line)\n",
        "\n",
        "    pdf = PDF()\n",
        "    pdf.add_page()\n",
        "    pdf.set_left_margin(10)\n",
        "    pdf.set_right_margin(10)\n",
        "    pdf.set_auto_page_break(auto=True, margin=15)\n",
        "    pdf.set_font('Arial', '', 12)\n",
        "\n",
        "    pdf.add_contract(contract_text)\n",
        "    pdf.output(file_name)\n",
        "\n",
        "# Function to extract text from a PDF\n",
        "def extract_text_from_pdf(pdf_path):\n",
        "    document = fitz.open(pdf_path)\n",
        "    text = \"\"\n",
        "    for page_num in range(len(document)):\n",
        "        page = document.load_page(page_num)\n",
        "        text += page.get_text()\n",
        "    return text\n",
        "\n",
        "# Function to summarize contract by extracting key sections\n",
        "def summarize_contract(text):\n",
        "    summary = {}\n",
        "\n",
        "    sections = {\n",
        "        'parties': r'PARTIES INVOLVED:\\s*(.*?)\\n',\n",
        "        'duration': r'CONTRACT DURATION:\\s*(.*?)\\n',\n",
        "        'payment_terms': r'PAYMENT TERMS:\\s*(.*?)\\nCONFIDENTIALITY',\n",
        "        'confidentiality': r'CONFIDENTIALITY:\\s*(.*?)\\nTERMINATION',\n",
        "        'termination': r'TERMINATION:\\s*(.*?)\\nLIABILITY',\n",
        "        'liability': r'LIABILITY:\\s*(.*?)\\nDISPUTE RESOLUTION',\n",
        "        'dispute_resolution': r'DISPUTE RESOLUTION:\\s*(.*?)\\nMISCELLANEOUS',\n",
        "        'miscellaneous': r'MISCELLANEOUS:\\s*(.*?)\\nSIGNATURES',\n",
        "        'signatures': r'SIGNATURES:\\s*(.*?)\\n'\n",
        "    }\n",
        "\n",
        "    for key, pattern in sections.items():\n",
        "        match = re.search(pattern, text, re.DOTALL)\n",
        "        summary[key] = match.group(1).strip() if match else 'Not found'\n",
        "\n",
        "    return summary\n",
        "\n",
        "# Function to check deviation from the template\n",
        "def check_deviation(text, template):\n",
        "    sm = SequenceMatcher(None, text, template)\n",
        "    deviation_ratio = sm.ratio()\n",
        "    deviation_percentage = (1 - deviation_ratio) * .001\n",
        "    return deviation_percentage\n",
        "\n",
        "# Function to highlight important details in the contract PDF\n",
        "def highlight_important_details(pdf_path, highlights, output_path):\n",
        "    document = fitz.open(pdf_path)\n",
        "    for page_num in range(len(document)):\n",
        "        page = document.load_page(page_num)\n",
        "        for highlight in highlights:\n",
        "            text_instances = page.search_for(highlight)\n",
        "            for inst in text_instances:\n",
        "                highlight = page.add_highlight_annot(inst)\n",
        "                highlight.update()\n",
        "    document.save(output_path)\n",
        "\n",
        "# Streamlit app\n",
        "st.title(\"Business Contract Generator and Validator\")\n",
        "\n",
        "st.sidebar.title(\"Options\")\n",
        "option = st.sidebar.selectbox(\"Choose an action\", [\"Generate Contract\", \"Validate Contract\"])\n",
        "\n",
        "if option == \"Generate Contract\":\n",
        "    st.header(\"Generate a Business Contract\")\n",
        "    num_contracts = st.number_input(\"Number of contracts to generate\", min_value=1, max_value=50, value=1)\n",
        "\n",
        "    if st.button(\"Generate\"):\n",
        "        for i in range(num_contracts):\n",
        "            generated_contract = generate_template_contract()\n",
        "            file_name = f\"generated_contract_{i+1}.pdf\"\n",
        "            save_contract_as_pdf(generated_contract, file_name)\n",
        "            st.success(f\"Contract {i+1} generated: {file_name}\")\n",
        "            with open(file_name, \"rb\") as file:\n",
        "                btn = st.download_button(\n",
        "                    label=f\"Download Contract {i+1}\",\n",
        "                    data=file,\n",
        "                    file_name=file_name,\n",
        "                    mime=\"application/pdf\"\n",
        "                )\n",
        "\n",
        "if option == \"Validate Contract\":\n",
        "    st.header(\"Validate a Business Contract\")\n",
        "    uploaded_file = st.file_uploader(\"Upload a PDF file\", type=\"pdf\")\n",
        "\n",
        "    if uploaded_file is not None:\n",
        "        with tempfile.NamedTemporaryFile(delete=False) as tmp_file:\n",
        "            tmp_file.write(uploaded_file.read())\n",
        "            tmp_file_path = tmp_file.name\n",
        "\n",
        "        extracted_text = extract_text_from_pdf(tmp_file_path)\n",
        "\n",
        "        summary = summarize_contract(extracted_text)\n",
        "        st.subheader(\"Contract Summary\")\n",
        "        for key, value in summary.items():\n",
        "            st.write(f\"**{key}**: {value}\")\n",
        "\n",
        "        deviation_percentage = check_deviation(extracted_text, generate_template_contract())\n",
        "        st.subheader(\"Deviation from Template\")\n",
        "        st.write(f\"Deviation: {deviation_percentage:.2f}%\")\n",
        "\n",
        "        important_details = [summary['parties'], summary['duration'], summary['payment_terms']]\n",
        "        output_pdf_path = \"highlighted_\" + uploaded_file.name\n",
        "        highlight_important_details(tmp_file_path, important_details, output_pdf_path)\n",
        "\n",
        "        st.subheader(\"Highlighted Contract\")\n",
        "        with open(output_pdf_path, \"rb\") as file:\n",
        "            st.download_button(\n",
        "                label=\"Download Highlighted Contract\",\n",
        "                data=file,\n",
        "                file_name=output_pdf_path,\n",
        "                mime=\"application/pdf\"\n",
        "            )\n",
        "\n"
      ],
      "metadata": {
        "colab": {
          "base_uri": "https://localhost:8080/"
        },
        "id": "jVuBkvwfgg8X",
        "outputId": "d6114659-f491-47ac-a37d-3e774c54ddb1"
      },
      "execution_count": 6,
      "outputs": [
        {
          "output_type": "stream",
          "name": "stdout",
          "text": [
            "Writing businesscontract.py\n"
          ]
        }
      ]
    },
    {
      "cell_type": "code",
      "source": [
        "!streamlit run businesscontract.py & npx localtunnel --port 8501"
      ],
      "metadata": {
        "colab": {
          "base_uri": "https://localhost:8080/"
        },
        "id": "ECtdz-U2gjDR",
        "outputId": "b7b6155e-82b3-431c-ffa8-371fc2a4183a"
      },
      "execution_count": null,
      "outputs": [
        {
          "output_type": "stream",
          "name": "stdout",
          "text": [
            "\n",
            "Collecting usage statistics. To deactivate, set browser.gatherUsageStats to false.\n",
            "\u001b[0m\n",
            "\u001b[0m\n",
            "\u001b[34m\u001b[1m  You can now view your Streamlit app in your browser.\u001b[0m\n",
            "\u001b[0m\n",
            "\u001b[34m  Local URL: \u001b[0m\u001b[1mhttp://localhost:8501\u001b[0m\n",
            "\u001b[34m  Network URL: \u001b[0m\u001b[1mhttp://172.28.0.12:8501\u001b[0m\n",
            "\u001b[34m  External URL: \u001b[0m\u001b[1mhttp://34.121.213.209:8501\u001b[0m\n",
            "\u001b[0m\n",
            "\u001b[K\u001b[?25hnpx: installed 22 in 2.07s\n",
            "your url is: https://brown-ghosts-happen.loca.lt\n"
          ]
        }
      ]
    }
  ],
  "metadata": {
    "colab": {
      "provenance": [],
      "include_colab_link": true
    },
    "kernelspec": {
      "display_name": "Python 3",
      "name": "python3"
    },
    "language_info": {
      "name": "python"
    }
  },
  "nbformat": 4,
  "nbformat_minor": 0
}