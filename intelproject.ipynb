{
  "cells": [
    {
      "cell_type": "markdown",
      "metadata": {
        "id": "view-in-github",
        "colab_type": "text"
      },
      "source": [
        "<a href=\"https://colab.research.google.com/github/Vandana-s-22/intelproject/blob/main/intelproject.ipynb\" target=\"_parent\"><img src=\"https://colab.research.google.com/assets/colab-badge.svg\" alt=\"Open In Colab\"/></a>"
      ]
    },
    {
      "cell_type": "code",
      "execution_count": null,
      "metadata": {
        "colab": {
          "base_uri": "https://localhost:8080/"
        },
        "id": "c-4vQSUwndSW",
        "outputId": "f36d9726-c9d0-4d58-c91e-20bc84edaf68"
      },
      "outputs": [
        {
          "output_type": "stream",
          "name": "stdout",
          "text": [
            "Requirement already satisfied: faker in /usr/local/lib/python3.10/dist-packages (26.0.0)\n",
            "Requirement already satisfied: python-dateutil>=2.4 in /usr/local/lib/python3.10/dist-packages (from faker) (2.8.2)\n",
            "Requirement already satisfied: six>=1.5 in /usr/local/lib/python3.10/dist-packages (from python-dateutil>=2.4->faker) (1.16.0)\n"
          ]
        }
      ],
      "source": [
        "pip install faker"
      ]
    },
    {
      "cell_type": "code",
      "source": [
        "pip install streamlit"
      ],
      "metadata": {
        "colab": {
          "base_uri": "https://localhost:8080/"
        },
        "id": "aBFTbIp5nc_8",
        "outputId": "38966423-f494-4576-f3a8-3b718a8a1d83"
      },
      "execution_count": null,
      "outputs": [
        {
          "output_type": "stream",
          "name": "stdout",
          "text": [
            "Collecting streamlit\n",
            "  Downloading streamlit-1.36.0-py2.py3-none-any.whl (8.6 MB)\n",
            "\u001b[2K     \u001b[90m━━━━━━━━━━━━━━━━━━━━━━━━━━━━━━━━━━━━━━━━\u001b[0m \u001b[32m8.6/8.6 MB\u001b[0m \u001b[31m19.1 MB/s\u001b[0m eta \u001b[36m0:00:00\u001b[0m\n",
            "\u001b[?25hCollecting PyMuPDF\n",
            "  Downloading PyMuPDF-1.24.7-cp310-none-manylinux2014_x86_64.whl (3.5 MB)\n",
            "\u001b[2K     \u001b[90m━━━━━━━━━━━━━━━━━━━━━━━━━━━━━━━━━━━━━━━━\u001b[0m \u001b[32m3.5/3.5 MB\u001b[0m \u001b[31m51.5 MB/s\u001b[0m eta \u001b[36m0:00:00\u001b[0m\n",
            "\u001b[?25hCollecting fpdf\n",
            "  Downloading fpdf-1.7.2.tar.gz (39 kB)\n",
            "  Preparing metadata (setup.py) ... \u001b[?25l\u001b[?25hdone\n",
            "Requirement already satisfied: faker in /usr/local/lib/python3.10/dist-packages (26.0.0)\n",
            "\u001b[31mERROR: Ignored the following versions that require a different python version: 0.55.2 Requires-Python <3.5\u001b[0m\u001b[31m\n",
            "\u001b[0m\u001b[31mERROR: Could not find a version that satisfies the requirement difflib (from versions: none)\u001b[0m\u001b[31m\n",
            "\u001b[0m\u001b[31mERROR: No matching distribution found for difflib\u001b[0m\u001b[31m\n",
            "\u001b[0m"
          ]
        }
      ]
    },
    {
      "cell_type": "code",
      "source": [
        "pip install PyMuPDF"
      ],
      "metadata": {
        "id": "bMcdht_CV1p-"
      },
      "execution_count": null,
      "outputs": []
    },
    {
      "cell_type": "code",
      "source": [
        "pip install fpdf"
      ],
      "metadata": {
        "id": "BtM8T4PYV4jg"
      },
      "execution_count": null,
      "outputs": []
    },
    {
      "cell_type": "code",
      "source": [
        "%%writefile vandana.py\n",
        "import streamlit as st\n",
        "import fitz  # PyMuPDF\n",
        "from fpdf import FPDF\n",
        "import re\n",
        "from faker import Faker\n",
        "import random\n",
        "import tempfile\n",
        "from difflib import SequenceMatcher\n",
        "\n",
        "# Initialize Faker\n",
        "fake = Faker()\n",
        "\n",
        "# Template for comparison\n",
        "template_contract = f\"\"\"\n",
        "BUSINESS CONTRACT\n",
        "\n",
        "PARTIES INVOLVED:\n",
        "  This contract is between {{company_a}} (hereinafter referred to as 'Party A') and {{company_b}} (hereinafter referred to as 'Party B').\n",
        "\n",
        "CONTRACT DURATION:\n",
        "  This contract shall commence on {{start_date}} and shall continue until {{end_date}} unless terminated earlier in accordance with the terms herein.\n",
        "\n",
        "PAYMENT TERMS:\n",
        "  Payment Terms.1: {{sentence}}\n",
        "  Payment Terms.2: {{sentence}}\n",
        "  Payment Terms.3: {{sentence}}\n",
        "\n",
        "CONFIDENTIALITY:\n",
        "  Confidentiality.1: {{sentence}}\n",
        "  Confidentiality.2: {{sentence}}\n",
        "  Confidentiality.3: {{sentence}}\n",
        "\n",
        "TERMINATION:\n",
        "  Termination.1: {{sentence}}\n",
        "  Termination.2: {{sentence}}\n",
        "  Termination.3: {{sentence}}\n",
        "\n",
        "LIABILITY:\n",
        "  Liability.1: {{sentence}}\n",
        "  Liability.2: {{sentence}}\n",
        "  Liability.3: {{sentence}}\n",
        "\n",
        "DISPUTE RESOLUTION:\n",
        "  Dispute Resolution.1: {{sentence}}\n",
        "  Dispute Resolution.2: {{sentence}}\n",
        "  Dispute Resolution.3: {{sentence}}\n",
        "\n",
        "MISCELLANEOUS:\n",
        "  Miscellaneous.1: {{sentence}}\n",
        "  Miscellaneous.2: {{sentence}}\n",
        "  Miscellaneous.3: {{sentence}}\n",
        "\n",
        "SIGNATURES:\n",
        "  Party A Representative: {{name}}\n",
        "  Party B Representative: {{name}}\n",
        "\n",
        "Date: {{date}}\n",
        "\"\"\"\n",
        "\n",
        "# Generate random contract text for template\n",
        "def generate_template_contract():\n",
        "    return template_contract.format(\n",
        "        company_a=fake.company(),\n",
        "        company_b=fake.company(),\n",
        "        start_date=fake.date_this_year(),\n",
        "        end_date=fake.date_this_decade(),\n",
        "        sentence=fake.sentence(),\n",
        "        name=fake.name(),\n",
        "        date=fake.date_this_year()\n",
        "    )\n",
        "\n",
        "# Function to save contract as PDF with style\n",
        "def save_contract_as_pdf(contract_text, file_name):\n",
        "    class PDF(FPDF):\n",
        "        def header(self):\n",
        "            self.set_font('Arial', 'B', 12)\n",
        "            self.cell(0, 10, 'Business Contract', 0, 1, 'C')\n",
        "\n",
        "        def chapter_title(self, title):\n",
        "            self.set_font('Arial', 'B', 12)\n",
        "            self.set_fill_color(200, 220, 255)\n",
        "            self.cell(0, 10, title, 0, 1, 'L', 1)\n",
        "            self.ln(4)\n",
        "\n",
        "        def chapter_body(self, body):\n",
        "            self.set_font('Arial', '', 12)\n",
        "            self.multi_cell(0, 10, body)\n",
        "            self.ln()\n",
        "\n",
        "        def add_contract(self, contract_text):\n",
        "            for line in contract_text.split('\\n'):\n",
        "                if line.strip() == '':\n",
        "                    continue\n",
        "                if line.isupper():\n",
        "                    self.chapter_title(line)\n",
        "                else:\n",
        "                    self.chapter_body(line)\n",
        "\n",
        "    pdf = PDF()\n",
        "    pdf.add_page()\n",
        "    pdf.set_left_margin(10)\n",
        "    pdf.set_right_margin(10)\n",
        "    pdf.set_auto_page_break(auto=True, margin=15)\n",
        "    pdf.set_font('Arial', '', 12)\n",
        "\n",
        "    pdf.add_contract(contract_text)\n",
        "    pdf.output(file_name)\n",
        "\n",
        "# Function to extract text from a PDF\n",
        "def extract_text_from_pdf(pdf_path):\n",
        "    document = fitz.open(pdf_path)\n",
        "    text = \"\"\n",
        "    for page_num in range(len(document)):\n",
        "        page = document.load_page(page_num)\n",
        "        text += page.get_text()\n",
        "    return text\n",
        "\n",
        "# Function to summarize contract by extracting key sections\n",
        "def summarize_contract(text):\n",
        "    summary = {}\n",
        "\n",
        "    sections = {\n",
        "        'parties': r'PARTIES INVOLVED:\\s*(.*?)\\n',\n",
        "        'duration': r'CONTRACT DURATION:\\s*(.*?)\\n',\n",
        "        'payment_terms': r'PAYMENT TERMS:\\s*(.*?)\\nCONFIDENTIALITY',\n",
        "        'confidentiality': r'CONFIDENTIALITY:\\s*(.*?)\\nTERMINATION',\n",
        "        'termination': r'TERMINATION:\\s*(.*?)\\nLIABILITY',\n",
        "        'liability': r'LIABILITY:\\s*(.*?)\\nDISPUTE RESOLUTION',\n",
        "        'dispute_resolution': r'DISPUTE RESOLUTION:\\s*(.*?)\\nMISCELLANEOUS',\n",
        "        'miscellaneous': r'MISCELLANEOUS:\\s*(.*?)\\nSIGNATURES',\n",
        "        'signatures': r'SIGNATURES:\\s*(.*?)\\n'\n",
        "    }\n",
        "\n",
        "    for key, pattern in sections.items():\n",
        "        match = re.search(pattern, text, re.DOTALL)\n",
        "        summary[key] = match.group(1).strip() if match else 'Not found'\n",
        "\n",
        "    return summary\n",
        "\n",
        "# Function to check deviation from the template\n",
        "def check_deviation(text, template):\n",
        "    sm = SequenceMatcher(None, text, template)\n",
        "    deviation_ratio = sm.ratio()\n",
        "    deviation_percentage = (1 - deviation_ratio) * .001\n",
        "    return deviation_percentage\n",
        "\n",
        "# Function to highlight important details in the contract PDF\n",
        "def highlight_important_details(pdf_path, highlights, output_path):\n",
        "    document = fitz.open(pdf_path)\n",
        "    for page_num in range(len(document)):\n",
        "        page = document.load_page(page_num)\n",
        "        for highlight in highlights:\n",
        "            text_instances = page.search_for(highlight)\n",
        "            for inst in text_instances:\n",
        "                highlight = page.add_highlight_annot(inst)\n",
        "                highlight.update()\n",
        "    document.save(output_path)\n",
        "\n",
        "# Streamlit app\n",
        "st.title(\"Business Contract Generator and Validator\")\n",
        "\n",
        "st.sidebar.title(\"Options\")\n",
        "option = st.sidebar.selectbox(\"Choose an action\", [\"Generate Contract\", \"Validate Contract\"])\n",
        "\n",
        "if option == \"Generate Contract\":\n",
        "    st.header(\"Generate a Business Contract\")\n",
        "    num_contracts = st.number_input(\"Number of contracts to generate\", min_value=1, max_value=50, value=1)\n",
        "\n",
        "    if st.button(\"Generate\"):\n",
        "        for i in range(num_contracts):\n",
        "            generated_contract = generate_template_contract()\n",
        "            file_name = f\"generated_contract_{i+1}.pdf\"\n",
        "            save_contract_as_pdf(generated_contract, file_name)\n",
        "            st.success(f\"Contract {i+1} generated: {file_name}\")\n",
        "            with open(file_name, \"rb\") as file:\n",
        "                btn = st.download_button(\n",
        "                    label=f\"Download Contract {i+1}\",\n",
        "                    data=file,\n",
        "                    file_name=file_name,\n",
        "                    mime=\"application/pdf\"\n",
        "                )\n",
        "\n",
        "if option == \"Validate Contract\":\n",
        "    st.header(\"Validate a Business Contract\")\n",
        "    uploaded_file = st.file_uploader(\"Upload a PDF file\", type=\"pdf\")\n",
        "\n",
        "    if uploaded_file is not None:\n",
        "        with tempfile.NamedTemporaryFile(delete=False) as tmp_file:\n",
        "            tmp_file.write(uploaded_file.read())\n",
        "            tmp_file_path = tmp_file.name\n",
        "\n",
        "        extracted_text = extract_text_from_pdf(tmp_file_path)\n",
        "\n",
        "        summary = summarize_contract(extracted_text)\n",
        "        st.subheader(\"Contract Summary\")\n",
        "        for key, value in summary.items():\n",
        "            st.write(f\"**{key}**: {value}\")\n",
        "\n",
        "        deviation_percentage = check_deviation(extracted_text, generate_template_contract())\n",
        "        st.subheader(\"Deviation from Template\")\n",
        "        st.write(f\"Deviation: {deviation_percentage:.2f}%\")\n",
        "\n",
        "        important_details = [summary['parties'], summary['duration'], summary['payment_terms']]\n",
        "        output_pdf_path = \"highlighted_\" + uploaded_file.name\n",
        "        highlight_important_details(tmp_file_path, important_details, output_pdf_path)\n",
        "\n",
        "        st.subheader(\"Highlighted Contract\")\n",
        "        with open(output_pdf_path, \"rb\") as file:\n",
        "            st.download_button(\n",
        "                label=\"Download Highlighted Contract\",\n",
        "                data=file,\n",
        "                file_name=output_pdf_path,\n",
        "                mime=\"application/pdf\"\n",
        "            )\n",
        "\n"
      ],
      "metadata": {
        "colab": {
          "base_uri": "https://localhost:8080/"
        },
        "id": "jVuBkvwfgg8X",
        "outputId": "d42b37ec-8d86-447b-b3bd-fb1e4841fa27"
      },
      "execution_count": null,
      "outputs": [
        {
          "output_type": "stream",
          "name": "stdout",
          "text": [
            "Writing vandana.py\n"
          ]
        }
      ]
    },
    {
      "cell_type": "code",
      "source": [
        "!streamlit run vandana.py & npx localtunnel --port 8501"
      ],
      "metadata": {
        "colab": {
          "base_uri": "https://localhost:8080/"
        },
        "id": "ECtdz-U2gjDR",
        "outputId": "384a1ccd-3b59-49a7-a239-65f45ed8c172"
      },
      "execution_count": null,
      "outputs": [
        {
          "output_type": "stream",
          "name": "stdout",
          "text": [
            "/bin/bash: line 1: streamlit: command not found\n",
            "\u001b[K\u001b[?25hnpx: installed 22 in 3.897s\n",
            "your url is: https://eleven-plants-hunt.loca.lt\n"
          ]
        }
      ]
    }
  ],
  "metadata": {
    "colab": {
      "provenance": [],
      "include_colab_link": true
    },
    "kernelspec": {
      "display_name": "Python 3",
      "name": "python3"
    },
    "language_info": {
      "name": "python"
    }
  },
  "nbformat": 4,
  "nbformat_minor": 0
}